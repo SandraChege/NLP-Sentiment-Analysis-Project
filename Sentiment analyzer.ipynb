{
 "cells": [
  {
   "cell_type": "code",
   "execution_count": 1,
   "id": "fc1c65dc",
   "metadata": {},
   "outputs": [
    {
     "name": "stderr",
     "output_type": "stream",
     "text": [
      "[nltk_data] Downloading package stopwords to\n",
      "[nltk_data]     C:\\Users\\admin\\AppData\\Roaming\\nltk_data...\n",
      "[nltk_data]   Package stopwords is already up-to-date!\n"
     ]
    }
   ],
   "source": [
    "import pandas as pd #for data manipulation\n",
    "import numpy as np #for numerical nalysis\n",
    "import seaborn as sns #for data visualization\n",
    "import matplotlib.pyplot as plt #for data visualization\n",
    "import nltk # Natural Language tool kit \n",
    "import wordcloud\n",
    "import textblob\n",
    "import os\n",
    "import string\n",
    "import re\n",
    "nltk.download('stopwords')\n",
    "from nltk.corpus import stopwords\n",
    "from nltk.stem import PorterStemmer \n",
    "from wordcloud import WordCloud\n",
    "from textblob import TextBlob"
   ]
  },
  {
   "cell_type": "code",
   "execution_count": 2,
   "id": "3a7b0dac",
   "metadata": {},
   "outputs": [],
   "source": [
    "#load data\n",
    "swahili_data=pd.read_csv('swahili.csv')"
   ]
  },
  {
   "cell_type": "code",
   "execution_count": 3,
   "id": "1e3da87c",
   "metadata": {},
   "outputs": [
    {
     "data": {
      "text/html": [
       "<div>\n",
       "<style scoped>\n",
       "    .dataframe tbody tr th:only-of-type {\n",
       "        vertical-align: middle;\n",
       "    }\n",
       "\n",
       "    .dataframe tbody tr th {\n",
       "        vertical-align: top;\n",
       "    }\n",
       "\n",
       "    .dataframe thead th {\n",
       "        text-align: right;\n",
       "    }\n",
       "</style>\n",
       "<table border=\"1\" class=\"dataframe\">\n",
       "  <thead>\n",
       "    <tr style=\"text-align: right;\">\n",
       "      <th></th>\n",
       "      <th>Unnamed: 0</th>\n",
       "      <th>text</th>\n",
       "      <th>tagi</th>\n",
       "    </tr>\n",
       "  </thead>\n",
       "  <tbody>\n",
       "    <tr>\n",
       "      <th>0</th>\n",
       "      <td>0</td>\n",
       "      <td>team 2019merimera alikuwa takataka</td>\n",
       "      <td>negative</td>\n",
       "    </tr>\n",
       "    <tr>\n",
       "      <th>1</th>\n",
       "      <td>1</td>\n",
       "      <td>sijafurahishwa</td>\n",
       "      <td>negative</td>\n",
       "    </tr>\n",
       "    <tr>\n",
       "      <th>2</th>\n",
       "      <td>2</td>\n",
       "      <td>kubuni dosari</td>\n",
       "      <td>negative</td>\n",
       "    </tr>\n",
       "    <tr>\n",
       "      <th>3</th>\n",
       "      <td>3</td>\n",
       "      <td>bila kusema nilipoteza pesa zangu</td>\n",
       "      <td>negative</td>\n",
       "    </tr>\n",
       "    <tr>\n",
       "      <th>4</th>\n",
       "      <td>4</td>\n",
       "      <td>sema kupoteza pesa na wakati</td>\n",
       "      <td>negative</td>\n",
       "    </tr>\n",
       "    <tr>\n",
       "      <th>5</th>\n",
       "      <td>5</td>\n",
       "      <td>ubunifu ni isiyo ya kawaida sana kwani kipande...</td>\n",
       "      <td>negative</td>\n",
       "    </tr>\n",
       "    <tr>\n",
       "      <th>6</th>\n",
       "      <td>6</td>\n",
       "      <td>akili yako imeoza</td>\n",
       "      <td>negative</td>\n",
       "    </tr>\n",
       "    <tr>\n",
       "      <th>7</th>\n",
       "      <td>7</td>\n",
       "      <td>aki si maisha ni magumu</td>\n",
       "      <td>negative</td>\n",
       "    </tr>\n",
       "    <tr>\n",
       "      <th>8</th>\n",
       "      <td>8</td>\n",
       "      <td>enyewe safaricom ni wezi</td>\n",
       "      <td>negative</td>\n",
       "    </tr>\n",
       "    <tr>\n",
       "      <th>9</th>\n",
       "      <td>9</td>\n",
       "      <td>mtandao duni hata line yao niliweka nyuma ya s...</td>\n",
       "      <td>negative</td>\n",
       "    </tr>\n",
       "  </tbody>\n",
       "</table>\n",
       "</div>"
      ],
      "text/plain": [
       "   Unnamed: 0                                               text      tagi\n",
       "0           0                 team 2019merimera alikuwa takataka  negative\n",
       "1           1                                     sijafurahishwa  negative\n",
       "2           2                                      kubuni dosari  negative\n",
       "3           3                  bila kusema nilipoteza pesa zangu  negative\n",
       "4           4                       sema kupoteza pesa na wakati  negative\n",
       "5           5  ubunifu ni isiyo ya kawaida sana kwani kipande...  negative\n",
       "6           6                                  akili yako imeoza  negative\n",
       "7           7                            aki si maisha ni magumu  negative\n",
       "8           8                           enyewe safaricom ni wezi  negative\n",
       "9           9  mtandao duni hata line yao niliweka nyuma ya s...  negative"
      ]
     },
     "execution_count": 3,
     "metadata": {},
     "output_type": "execute_result"
    }
   ],
   "source": [
    "#view the first 10 items\n",
    "swahili_data.head(10)"
   ]
  },
  {
   "cell_type": "code",
   "execution_count": 4,
   "id": "f1fe95b0",
   "metadata": {},
   "outputs": [
    {
     "name": "stdout",
     "output_type": "stream",
     "text": [
      "<class 'pandas.core.frame.DataFrame'>\n",
      "RangeIndex: 3925 entries, 0 to 3924\n",
      "Data columns (total 3 columns):\n",
      " #   Column      Non-Null Count  Dtype \n",
      "---  ------      --------------  ----- \n",
      " 0   Unnamed: 0  3925 non-null   int64 \n",
      " 1   text        3925 non-null   object\n",
      " 2   tagi        3925 non-null   object\n",
      "dtypes: int64(1), object(2)\n",
      "memory usage: 92.1+ KB\n"
     ]
    }
   ],
   "source": [
    "# View the DataFrame Information\n",
    "swahili_data.info()"
   ]
  },
  {
   "cell_type": "code",
   "execution_count": 5,
   "id": "965db5a0",
   "metadata": {},
   "outputs": [
    {
     "data": {
      "text/html": [
       "<div>\n",
       "<style scoped>\n",
       "    .dataframe tbody tr th:only-of-type {\n",
       "        vertical-align: middle;\n",
       "    }\n",
       "\n",
       "    .dataframe tbody tr th {\n",
       "        vertical-align: top;\n",
       "    }\n",
       "\n",
       "    .dataframe thead th {\n",
       "        text-align: right;\n",
       "    }\n",
       "</style>\n",
       "<table border=\"1\" class=\"dataframe\">\n",
       "  <thead>\n",
       "    <tr style=\"text-align: right;\">\n",
       "      <th></th>\n",
       "      <th>Unnamed: 0</th>\n",
       "    </tr>\n",
       "  </thead>\n",
       "  <tbody>\n",
       "    <tr>\n",
       "      <th>count</th>\n",
       "      <td>3925.000000</td>\n",
       "    </tr>\n",
       "    <tr>\n",
       "      <th>mean</th>\n",
       "      <td>1254.993631</td>\n",
       "    </tr>\n",
       "    <tr>\n",
       "      <th>std</th>\n",
       "      <td>885.518930</td>\n",
       "    </tr>\n",
       "    <tr>\n",
       "      <th>min</th>\n",
       "      <td>0.000000</td>\n",
       "    </tr>\n",
       "    <tr>\n",
       "      <th>25%</th>\n",
       "      <td>490.000000</td>\n",
       "    </tr>\n",
       "    <tr>\n",
       "      <th>50%</th>\n",
       "      <td>1037.000000</td>\n",
       "    </tr>\n",
       "    <tr>\n",
       "      <th>75%</th>\n",
       "      <td>2018.000000</td>\n",
       "    </tr>\n",
       "    <tr>\n",
       "      <th>max</th>\n",
       "      <td>2999.000000</td>\n",
       "    </tr>\n",
       "  </tbody>\n",
       "</table>\n",
       "</div>"
      ],
      "text/plain": [
       "        Unnamed: 0\n",
       "count  3925.000000\n",
       "mean   1254.993631\n",
       "std     885.518930\n",
       "min       0.000000\n",
       "25%     490.000000\n",
       "50%    1037.000000\n",
       "75%    2018.000000\n",
       "max    2999.000000"
      ]
     },
     "execution_count": 5,
     "metadata": {},
     "output_type": "execute_result"
    }
   ],
   "source": [
    "# View DataFrame Statistical Summary\n",
    "swahili_data.describe()"
   ]
  },
  {
   "cell_type": "code",
   "execution_count": 6,
   "id": "107d93cc",
   "metadata": {},
   "outputs": [
    {
     "data": {
      "text/html": [
       "<div>\n",
       "<style scoped>\n",
       "    .dataframe tbody tr th:only-of-type {\n",
       "        vertical-align: middle;\n",
       "    }\n",
       "\n",
       "    .dataframe tbody tr th {\n",
       "        vertical-align: top;\n",
       "    }\n",
       "\n",
       "    .dataframe thead th {\n",
       "        text-align: right;\n",
       "    }\n",
       "</style>\n",
       "<table border=\"1\" class=\"dataframe\">\n",
       "  <thead>\n",
       "    <tr style=\"text-align: right;\">\n",
       "      <th></th>\n",
       "      <th>Unnamed: 0</th>\n",
       "      <th>text</th>\n",
       "      <th>tagi</th>\n",
       "    </tr>\n",
       "  </thead>\n",
       "  <tbody>\n",
       "    <tr>\n",
       "      <th>0</th>\n",
       "      <td>False</td>\n",
       "      <td>False</td>\n",
       "      <td>False</td>\n",
       "    </tr>\n",
       "    <tr>\n",
       "      <th>1</th>\n",
       "      <td>False</td>\n",
       "      <td>False</td>\n",
       "      <td>False</td>\n",
       "    </tr>\n",
       "    <tr>\n",
       "      <th>2</th>\n",
       "      <td>False</td>\n",
       "      <td>False</td>\n",
       "      <td>False</td>\n",
       "    </tr>\n",
       "    <tr>\n",
       "      <th>3</th>\n",
       "      <td>False</td>\n",
       "      <td>False</td>\n",
       "      <td>False</td>\n",
       "    </tr>\n",
       "    <tr>\n",
       "      <th>4</th>\n",
       "      <td>False</td>\n",
       "      <td>False</td>\n",
       "      <td>False</td>\n",
       "    </tr>\n",
       "    <tr>\n",
       "      <th>...</th>\n",
       "      <td>...</td>\n",
       "      <td>...</td>\n",
       "      <td>...</td>\n",
       "    </tr>\n",
       "    <tr>\n",
       "      <th>3920</th>\n",
       "      <td>False</td>\n",
       "      <td>False</td>\n",
       "      <td>False</td>\n",
       "    </tr>\n",
       "    <tr>\n",
       "      <th>3921</th>\n",
       "      <td>False</td>\n",
       "      <td>False</td>\n",
       "      <td>False</td>\n",
       "    </tr>\n",
       "    <tr>\n",
       "      <th>3922</th>\n",
       "      <td>False</td>\n",
       "      <td>False</td>\n",
       "      <td>False</td>\n",
       "    </tr>\n",
       "    <tr>\n",
       "      <th>3923</th>\n",
       "      <td>False</td>\n",
       "      <td>False</td>\n",
       "      <td>False</td>\n",
       "    </tr>\n",
       "    <tr>\n",
       "      <th>3924</th>\n",
       "      <td>False</td>\n",
       "      <td>False</td>\n",
       "      <td>False</td>\n",
       "    </tr>\n",
       "  </tbody>\n",
       "</table>\n",
       "<p>3925 rows × 3 columns</p>\n",
       "</div>"
      ],
      "text/plain": [
       "      Unnamed: 0   text   tagi\n",
       "0          False  False  False\n",
       "1          False  False  False\n",
       "2          False  False  False\n",
       "3          False  False  False\n",
       "4          False  False  False\n",
       "...          ...    ...    ...\n",
       "3920       False  False  False\n",
       "3921       False  False  False\n",
       "3922       False  False  False\n",
       "3923       False  False  False\n",
       "3924       False  False  False\n",
       "\n",
       "[3925 rows x 3 columns]"
      ]
     },
     "execution_count": 6,
     "metadata": {},
     "output_type": "execute_result"
    }
   ],
   "source": [
    "#checks for null elements\n",
    "swahili_data.isnull()"
   ]
  },
  {
   "cell_type": "code",
   "execution_count": 7,
   "id": "bbd79670",
   "metadata": {},
   "outputs": [
    {
     "data": {
      "text/plain": [
       "Unnamed: 0    0\n",
       "text          0\n",
       "tagi          0\n",
       "dtype: int64"
      ]
     },
     "execution_count": 7,
     "metadata": {},
     "output_type": "execute_result"
    }
   ],
   "source": [
    "#checks for null elements\n",
    "swahili_data.isnull().sum()"
   ]
  },
  {
   "cell_type": "code",
   "execution_count": 8,
   "id": "ee86ece3",
   "metadata": {},
   "outputs": [
    {
     "data": {
      "text/plain": [
       "<AxesSubplot:>"
      ]
     },
     "execution_count": 8,
     "metadata": {},
     "output_type": "execute_result"
    },
    {
     "data": {
      "image/png": "[encoded data removed]",
      "text/plain": [
       "<Figure size 640x480 with 2 Axes>"
      ]
     },
     "metadata": {},
     "output_type": "display_data"
    }
   ],
   "source": [
    "#checks for null elements\n",
    "sns.heatmap(swahili_data.isnull())"
   ]
  },
  {
   "cell_type": "code",
   "execution_count": 9,
   "id": "e5f7ee98",
   "metadata": {},
   "outputs": [
    {
     "name": "stdout",
     "output_type": "stream",
     "text": [
      "(3925, 3)\n"
     ]
    }
   ],
   "source": [
    "#Shape in form of rows, cols\n",
    "print(swahili_data.shape)"
   ]
  },
  {
   "cell_type": "code",
   "execution_count": 10,
   "id": "4531c913",
   "metadata": {
    "scrolled": true
   },
   "outputs": [
    {
     "data": {
      "text/html": [
       "<div>\n",
       "<style scoped>\n",
       "    .dataframe tbody tr th:only-of-type {\n",
       "        vertical-align: middle;\n",
       "    }\n",
       "\n",
       "    .dataframe tbody tr th {\n",
       "        vertical-align: top;\n",
       "    }\n",
       "\n",
       "    .dataframe thead th {\n",
       "        text-align: right;\n",
       "    }\n",
       "</style>\n",
       "<table border=\"1\" class=\"dataframe\">\n",
       "  <thead>\n",
       "    <tr style=\"text-align: right;\">\n",
       "      <th></th>\n",
       "      <th>Unnamed: 0</th>\n",
       "      <th>text</th>\n",
       "      <th>tagi</th>\n",
       "      <th>length</th>\n",
       "    </tr>\n",
       "  </thead>\n",
       "  <tbody>\n",
       "    <tr>\n",
       "      <th>0</th>\n",
       "      <td>0</td>\n",
       "      <td>team 2019merimera alikuwa takataka</td>\n",
       "      <td>negative</td>\n",
       "      <td>34</td>\n",
       "    </tr>\n",
       "    <tr>\n",
       "      <th>1</th>\n",
       "      <td>1</td>\n",
       "      <td>sijafurahishwa</td>\n",
       "      <td>negative</td>\n",
       "      <td>14</td>\n",
       "    </tr>\n",
       "    <tr>\n",
       "      <th>2</th>\n",
       "      <td>2</td>\n",
       "      <td>kubuni dosari</td>\n",
       "      <td>negative</td>\n",
       "      <td>13</td>\n",
       "    </tr>\n",
       "    <tr>\n",
       "      <th>3</th>\n",
       "      <td>3</td>\n",
       "      <td>bila kusema nilipoteza pesa zangu</td>\n",
       "      <td>negative</td>\n",
       "      <td>33</td>\n",
       "    </tr>\n",
       "    <tr>\n",
       "      <th>4</th>\n",
       "      <td>4</td>\n",
       "      <td>sema kupoteza pesa na wakati</td>\n",
       "      <td>negative</td>\n",
       "      <td>28</td>\n",
       "    </tr>\n",
       "    <tr>\n",
       "      <th>...</th>\n",
       "      <td>...</td>\n",
       "      <td>...</td>\n",
       "      <td>...</td>\n",
       "      <td>...</td>\n",
       "    </tr>\n",
       "    <tr>\n",
       "      <th>3920</th>\n",
       "      <td>2995</td>\n",
       "      <td>Nafikiri chakula chapasa kuwa na ladha na umbi...</td>\n",
       "      <td>negative</td>\n",
       "      <td>77</td>\n",
       "    </tr>\n",
       "    <tr>\n",
       "      <th>3921</th>\n",
       "      <td>2996</td>\n",
       "      <td>hamu ya kula ilitoweka mara moja</td>\n",
       "      <td>negative</td>\n",
       "      <td>32</td>\n",
       "    </tr>\n",
       "    <tr>\n",
       "      <th>3922</th>\n",
       "      <td>2997</td>\n",
       "      <td>Kwa ujumla sikuvutiwa na nisirudi nyuma</td>\n",
       "      <td>negative</td>\n",
       "      <td>39</td>\n",
       "    </tr>\n",
       "    <tr>\n",
       "      <th>3923</th>\n",
       "      <td>2998</td>\n",
       "      <td>Mambo yote yaliyoonwa yalikuwa chini ya kiwang...</td>\n",
       "      <td>negative</td>\n",
       "      <td>122</td>\n",
       "    </tr>\n",
       "    <tr>\n",
       "      <th>3924</th>\n",
       "      <td>2999</td>\n",
       "      <td>Basi ni kana kwamba nilipoteza maisha yangu ya...</td>\n",
       "      <td>negative</td>\n",
       "      <td>132</td>\n",
       "    </tr>\n",
       "  </tbody>\n",
       "</table>\n",
       "<p>3925 rows × 4 columns</p>\n",
       "</div>"
      ],
      "text/plain": [
       "      Unnamed: 0                                               text      tagi  \\\n",
       "0              0                 team 2019merimera alikuwa takataka  negative   \n",
       "1              1                                     sijafurahishwa  negative   \n",
       "2              2                                      kubuni dosari  negative   \n",
       "3              3                  bila kusema nilipoteza pesa zangu  negative   \n",
       "4              4                       sema kupoteza pesa na wakati  negative   \n",
       "...          ...                                                ...       ...   \n",
       "3920        2995  Nafikiri chakula chapasa kuwa na ladha na umbi...  negative   \n",
       "3921        2996                   hamu ya kula ilitoweka mara moja  negative   \n",
       "3922        2997            Kwa ujumla sikuvutiwa na nisirudi nyuma  negative   \n",
       "3923        2998  Mambo yote yaliyoonwa yalikuwa chini ya kiwang...  negative   \n",
       "3924        2999  Basi ni kana kwamba nilipoteza maisha yangu ya...  negative   \n",
       "\n",
       "      length  \n",
       "0         34  \n",
       "1         14  \n",
       "2         13  \n",
       "3         33  \n",
       "4         28  \n",
       "...      ...  \n",
       "3920      77  \n",
       "3921      32  \n",
       "3922      39  \n",
       "3923     122  \n",
       "3924     132  \n",
       "\n",
       "[3925 rows x 4 columns]"
      ]
     },
     "execution_count": 10,
     "metadata": {},
     "output_type": "execute_result"
    }
   ],
   "source": [
    "#feature extraction:Length of the review text\n",
    "swahili_data['length']=swahili_data['text'].apply(len)\n",
    "swahili_data"
   ]
  },
  {
   "cell_type": "code",
   "execution_count": 11,
   "id": "47add248",
   "metadata": {},
   "outputs": [],
   "source": [
    "sorted_data = swahili_data.sort_values(by='length')"
   ]
  },
  {
   "cell_type": "code",
   "execution_count": 12,
   "id": "114a0a3a",
   "metadata": {},
   "outputs": [
    {
     "name": "stdout",
     "output_type": "stream",
     "text": [
      "      Unnamed: 0                                               text      tagi  \\\n",
      "2945        2020                                                kla  negative   \n",
      "2418        1493                                               Ione  positive   \n",
      "3090        2165                                               tamu  positive   \n",
      "514          514                                               1010  positive   \n",
      "2713        1788                                               1010  positive   \n",
      "...          ...                                                ...       ...   \n",
      "601          601  sinema hii ni bora malaika ni mzuri na scamp n...  positive   \n",
      "2353        1428  matumizi ya hali ya polepole ya kihisia - moyo...  negative   \n",
      "2346        1421  Filamu hii ni nzuri sana na mpunjaji ni viruka...  positive   \n",
      "2545        1620  Hii ni sehemu yenye ustadi ya utengenezaji wa ...  positive   \n",
      "650          650  hii ni sehemu nzuri ya utengenezaji wa filamu ...  positive   \n",
      "\n",
      "      length  \n",
      "2945       3  \n",
      "2418       4  \n",
      "3090       4  \n",
      "514        4  \n",
      "2713       4  \n",
      "...      ...  \n",
      "601      354  \n",
      "2353     374  \n",
      "2346     386  \n",
      "2545     445  \n",
      "650      459  \n",
      "\n",
      "[3925 rows x 4 columns]\n"
     ]
    }
   ],
   "source": [
    "#sorts length by ascending order\n",
    "swahili_data_sorted = swahili_data.sort_values(by='length', ascending=True)\n",
    "print(swahili_data_sorted)"
   ]
  },
  {
   "cell_type": "code",
   "execution_count": 13,
   "id": "61d3c10a",
   "metadata": {},
   "outputs": [
    {
     "name": "stdout",
     "output_type": "stream",
     "text": [
      "650    hii ni sehemu nzuri ya utengenezaji wa filamu ...\n",
      "Name: text, dtype: object\n"
     ]
    }
   ],
   "source": [
    "#the tail() function to displays the longest text:\n",
    "print(sorted_data.tail(1)['text'])"
   ]
  },
  {
   "cell_type": "code",
   "execution_count": 14,
   "id": "04b57c22",
   "metadata": {},
   "outputs": [
    {
     "name": "stdout",
     "output_type": "stream",
     "text": [
      "2945    kla\n",
      "Name: text, dtype: object\n"
     ]
    }
   ],
   "source": [
    "#The head() function to displays the shortest text:\n",
    "print(sorted_data.head(1)['text'])"
   ]
  },
  {
   "cell_type": "code",
   "execution_count": 15,
   "id": "d15003ee",
   "metadata": {},
   "outputs": [
    {
     "data": {
      "text/plain": [
       "<AxesSubplot:ylabel='Frequency'>"
      ]
     },
     "execution_count": 15,
     "metadata": {},
     "output_type": "execute_result"
    },
    {
     "data": {
      "image/png": "[encoded data removed]",
      "text/plain": [
       "<Figure size 640x480 with 1 Axes>"
      ]
     },
     "metadata": {},
     "output_type": "display_data"
    }
   ],
   "source": [
    "# Plot the histogram for the length\n",
    "swahili_data['length'].plot(bins = 30, kind= 'hist', color = 'teal')"
   ]
  },
  {
   "cell_type": "code",
   "execution_count": 16,
   "id": "16fe2e7f",
   "metadata": {},
   "outputs": [
    {
     "data": {
      "text/plain": [
       "positive    2002\n",
       "negative    1923\n",
       "Name: tagi, dtype: int64"
      ]
     },
     "execution_count": 16,
     "metadata": {},
     "output_type": "execute_result"
    }
   ],
   "source": [
    "swahili_data['tagi'].value_counts()"
   ]
  },
  {
   "cell_type": "code",
   "execution_count": 17,
   "id": "13f82d8a",
   "metadata": {},
   "outputs": [
    {
     "name": "stdout",
     "output_type": "stream",
     "text": [
      "      Unnamed: 0                                               text      tagi  \\\n",
      "0              0                 team 2019merimera alikuwa takataka  negative   \n",
      "1              1                                     sijafurahishwa  negative   \n",
      "2              2                                      kubuni dosari  negative   \n",
      "3              3                  bila kusema nilipoteza pesa zangu  negative   \n",
      "4              4                       sema kupoteza pesa na wakati  negative   \n",
      "...          ...                                                ...       ...   \n",
      "3920        2995  Nafikiri chakula chapasa kuwa na ladha na umbi...  negative   \n",
      "3921        2996                   hamu ya kula ilitoweka mara moja  negative   \n",
      "3922        2997            Kwa ujumla sikuvutiwa na nisirudi nyuma  negative   \n",
      "3923        2998  Mambo yote yaliyoonwa yalikuwa chini ya kiwang...  negative   \n",
      "3924        2999  Basi ni kana kwamba nilipoteza maisha yangu ya...  negative   \n",
      "\n",
      "      length  \n",
      "0         34  \n",
      "1         14  \n",
      "2         13  \n",
      "3         33  \n",
      "4         28  \n",
      "...      ...  \n",
      "3920      77  \n",
      "3921      32  \n",
      "3922      39  \n",
      "3923     122  \n",
      "3924     132  \n",
      "\n",
      "[1923 rows x 4 columns]\n"
     ]
    }
   ],
   "source": [
    "# Obtain only the negative reviews\n",
    "negative_feedback = swahili_data[swahili_data['tagi'] == 'negative' ]\n",
    "print(negative_feedback)"
   ]
  },
  {
   "cell_type": "code",
   "execution_count": 18,
   "id": "094ee653",
   "metadata": {},
   "outputs": [
    {
     "name": "stdout",
     "output_type": "stream",
     "text": [
      "      Unnamed: 0                                               text      tagi  \\\n",
      "423          423                                yeye ni mrembo sana  positive   \n",
      "424          424                          tunaipenda hii ngoma sana  positive   \n",
      "425          425  yani nahisi mapenzi hadi kwa miguu naipenda ng...  positive   \n",
      "426          426  waah hii ngoma ilikua imeshika nikiwa darasa l...  positive   \n",
      "427          427          safi mgenge2018 na hii ngoma bado ni moto  positive   \n",
      "...          ...                                                ...       ...   \n",
      "3824        2899                             Mambo mengi yaliyoonwa  positive   \n",
      "3826        2901  Mkate wao uliochomwa kwa ukawaida ulitosheleza...  positive   \n",
      "3832        2907  vibanzi na vyombo vinavyoweza kuuzwa hapa ni v...  positive   \n",
      "3834        2909           Hapa ndipo mahali ninapopaona vegas mpya  positive   \n",
      "3847        2922  kila wakati nilapo hapa mimi huona ushirikiano...  positive   \n",
      "\n",
      "      length  \n",
      "423       19  \n",
      "424       25  \n",
      "425       54  \n",
      "426       96  \n",
      "427       41  \n",
      "...      ...  \n",
      "3824      22  \n",
      "3826      86  \n",
      "3832      54  \n",
      "3834      40  \n",
      "3847      85  \n",
      "\n",
      "[2002 rows x 4 columns]\n"
     ]
    }
   ],
   "source": [
    "# Obtain only the positive reviews\n",
    "positive_feedback = swahili_data[swahili_data['tagi'] == 'positive' ]\n",
    "print(positive_feedback)"
   ]
  },
  {
   "cell_type": "code",
   "execution_count": 19,
   "id": "259a1428",
   "metadata": {},
   "outputs": [],
   "source": [
    "# Convert to list format\n",
    "paragraph = negative_feedback['text'].tolist()\n",
    "# Join all reviews into one large string\n",
    "paragraph_as_one = ' '.join(paragraph)"
   ]
  },
  {
   "cell_type": "code",
   "execution_count": 20,
   "id": "51d9dda5",
   "metadata": {},
   "outputs": [
    {
     "data": {
      "text/plain": [
       "<matplotlib.image.AxesImage at 0x2409cbe30a0>"
      ]
     },
     "execution_count": 20,
     "metadata": {},
     "output_type": "execute_result"
    },
    {
     "data": {
      "image/png": "[encoded data removed]",
      "text/plain": [
       "<Figure size 2000x2000 with 1 Axes>"
      ]
     },
     "metadata": {},
     "output_type": "display_data"
    }
   ],
   "source": [
    "#negative reviews wordcloud\n",
    "from wordcloud import WordCloud\n",
    "\n",
    "plt.figure(figsize=(20,20))\n",
    "plt.imshow(WordCloud().generate(paragraph_as_one))"
   ]
  },
  {
   "cell_type": "code",
   "execution_count": 21,
   "id": "f94fc594",
   "metadata": {},
   "outputs": [],
   "source": [
    "# Open the stopwords file and read its contents\n",
    "with open('swahili_stopwords.txt', 'r') as f:\n",
    "    stopwords_contents = f.read()\n",
    "\n",
    "# Split the contents of the file into a list of strings\n",
    "stopwords_list = stopwords_contents.split()\n",
    "\n",
    "# Remove any empty strings or whitespace from the list (optional)\n",
    "stopwords_list = [string for string in stopwords_list if string.strip()]\n",
    "\n",
    "#concatenate the stopwords both English and Swahili\n",
    "Stopwords = set(stopwords.words('english') + stopwords_list)\n",
    "\n",
    "# function to clean text\n",
    "def clean_text(text):\n",
    "    \n",
    "    # remove punctuation\n",
    "    #can use [^\\w\\s] or [‘’“”…,] or !\"#\\$%&\\'\\(\\)\\*\\+,\\-\\./:;<=>\\?@\\[\\\\\\]\\^_`{\\|}~\n",
    "    #[^\\w\\s] removes any character that is not a letter, digit, or underscore) or whitespace.^ means is not\n",
    "    text = re.sub('[^\\w\\s]', '', text)\n",
    "    \n",
    "    #convert text to lowercase\n",
    "    text = text.lower()\n",
    "    \n",
    "    #remove numbers and keep text/alphabet only\n",
    "    text = re.sub(\"[^a-zA-Z]\",\" \",text)\n",
    "    \n",
    "    #remove parentheses\n",
    "    text = re.sub('[()]', '', text)\n",
    "    \n",
    "    #Tokenization\n",
    "    text = text.split()\n",
    "    \n",
    "    # remove stopwords\n",
    "    text = [word for word in text if word not in Stopwords]\n",
    "    \n",
    "    # stem the words\n",
    "    porter = PorterStemmer()\n",
    "    text = [porter.stem(word) for word in text]\n",
    "    \n",
    "    # join the cleaned words back into a string\n",
    "    text = ' '.join(text)\n",
    "    \n",
    "    return text"
   ]
  },
  {
   "cell_type": "code",
   "execution_count": 22,
   "id": "32eead77",
   "metadata": {
    "scrolled": true
   },
   "outputs": [
    {
     "data": {
      "text/html": [
       "<div>\n",
       "<style scoped>\n",
       "    .dataframe tbody tr th:only-of-type {\n",
       "        vertical-align: middle;\n",
       "    }\n",
       "\n",
       "    .dataframe tbody tr th {\n",
       "        vertical-align: top;\n",
       "    }\n",
       "\n",
       "    .dataframe thead th {\n",
       "        text-align: right;\n",
       "    }\n",
       "</style>\n",
       "<table border=\"1\" class=\"dataframe\">\n",
       "  <thead>\n",
       "    <tr style=\"text-align: right;\">\n",
       "      <th></th>\n",
       "      <th>Unnamed: 0</th>\n",
       "      <th>text</th>\n",
       "      <th>tagi</th>\n",
       "      <th>length</th>\n",
       "    </tr>\n",
       "  </thead>\n",
       "  <tbody>\n",
       "    <tr>\n",
       "      <th>0</th>\n",
       "      <td>0</td>\n",
       "      <td>team merimera alikuwa takataka</td>\n",
       "      <td>negative</td>\n",
       "      <td>34</td>\n",
       "    </tr>\n",
       "    <tr>\n",
       "      <th>1</th>\n",
       "      <td>1</td>\n",
       "      <td>sijafurahishwa</td>\n",
       "      <td>negative</td>\n",
       "      <td>14</td>\n",
       "    </tr>\n",
       "    <tr>\n",
       "      <th>2</th>\n",
       "      <td>2</td>\n",
       "      <td>kubuni dosari</td>\n",
       "      <td>negative</td>\n",
       "      <td>13</td>\n",
       "    </tr>\n",
       "    <tr>\n",
       "      <th>3</th>\n",
       "      <td>3</td>\n",
       "      <td>bila kusema nilipoteza pesa zangu</td>\n",
       "      <td>negative</td>\n",
       "      <td>33</td>\n",
       "    </tr>\n",
       "    <tr>\n",
       "      <th>4</th>\n",
       "      <td>4</td>\n",
       "      <td>sema kupoteza pesa wakati</td>\n",
       "      <td>negative</td>\n",
       "      <td>28</td>\n",
       "    </tr>\n",
       "    <tr>\n",
       "      <th>...</th>\n",
       "      <td>...</td>\n",
       "      <td>...</td>\n",
       "      <td>...</td>\n",
       "      <td>...</td>\n",
       "    </tr>\n",
       "    <tr>\n",
       "      <th>3920</th>\n",
       "      <td>2995</td>\n",
       "      <td>nafikiri chakula chapasa kuwa ladha umbil vyot...</td>\n",
       "      <td>negative</td>\n",
       "      <td>77</td>\n",
       "    </tr>\n",
       "    <tr>\n",
       "      <th>3921</th>\n",
       "      <td>2996</td>\n",
       "      <td>hamu kula ilitoweka mara moja</td>\n",
       "      <td>negative</td>\n",
       "      <td>32</td>\n",
       "    </tr>\n",
       "    <tr>\n",
       "      <th>3922</th>\n",
       "      <td>2997</td>\n",
       "      <td>ujumla sikuvutiwa nisirudi nyuma</td>\n",
       "      <td>negative</td>\n",
       "      <td>39</td>\n",
       "    </tr>\n",
       "    <tr>\n",
       "      <th>3923</th>\n",
       "      <td>2998</td>\n",
       "      <td>mambo yote yaliyoonwa yalikuwa kiwango cha nad...</td>\n",
       "      <td>negative</td>\n",
       "      <td>122</td>\n",
       "    </tr>\n",
       "    <tr>\n",
       "      <th>3924</th>\n",
       "      <td>2999</td>\n",
       "      <td>basi kana nilipoteza maisha kutosha hapo walim...</td>\n",
       "      <td>negative</td>\n",
       "      <td>132</td>\n",
       "    </tr>\n",
       "  </tbody>\n",
       "</table>\n",
       "<p>3925 rows × 4 columns</p>\n",
       "</div>"
      ],
      "text/plain": [
       "      Unnamed: 0                                               text      tagi  \\\n",
       "0              0                     team merimera alikuwa takataka  negative   \n",
       "1              1                                     sijafurahishwa  negative   \n",
       "2              2                                      kubuni dosari  negative   \n",
       "3              3                  bila kusema nilipoteza pesa zangu  negative   \n",
       "4              4                          sema kupoteza pesa wakati  negative   \n",
       "...          ...                                                ...       ...   \n",
       "3920        2995  nafikiri chakula chapasa kuwa ladha umbil vyot...  negative   \n",
       "3921        2996                      hamu kula ilitoweka mara moja  negative   \n",
       "3922        2997                   ujumla sikuvutiwa nisirudi nyuma  negative   \n",
       "3923        2998  mambo yote yaliyoonwa yalikuwa kiwango cha nad...  negative   \n",
       "3924        2999  basi kana nilipoteza maisha kutosha hapo walim...  negative   \n",
       "\n",
       "      length  \n",
       "0         34  \n",
       "1         14  \n",
       "2         13  \n",
       "3         33  \n",
       "4         28  \n",
       "...      ...  \n",
       "3920      77  \n",
       "3921      32  \n",
       "3922      39  \n",
       "3923     122  \n",
       "3924     132  \n",
       "\n",
       "[3925 rows x 4 columns]"
      ]
     },
     "execution_count": 22,
     "metadata": {},
     "output_type": "execute_result"
    }
   ],
   "source": [
    "swahili_data['text'] = swahili_data['text'].apply(clean_text)\n",
    "swahili_data"
   ]
  },
  {
   "cell_type": "code",
   "execution_count": 23,
   "id": "b5b4c59f",
   "metadata": {},
   "outputs": [
    {
     "data": {
      "text/plain": [
       "51.0"
      ]
     },
     "execution_count": 23,
     "metadata": {},
     "output_type": "execute_result"
    }
   ],
   "source": [
    "#get percentage of positive text\n",
    "positive_swahili_data=swahili_data[swahili_data.tagi == 'positive']\n",
    "positive_swahili_data = positive_swahili_data['text']\n",
    "\n",
    "round( (positive_swahili_data.shape[0]/swahili_data.shape[0])*100, 1)"
   ]
  },
  {
   "cell_type": "code",
   "execution_count": 24,
   "id": "9e95b46f",
   "metadata": {},
   "outputs": [
    {
     "data": {
      "text/plain": [
       "49.0"
      ]
     },
     "execution_count": 24,
     "metadata": {},
     "output_type": "execute_result"
    }
   ],
   "source": [
    "#get percentage of negative text\n",
    "negative_swahili_data=swahili_data[swahili_data.tagi == 'negative']\n",
    "negative_swahili_data = negative_swahili_data['text']\n",
    "\n",
    "round( (negative_swahili_data.shape[0]/swahili_data.shape[0])*100, 1)"
   ]
  },
  {
   "cell_type": "code",
   "execution_count": 25,
   "id": "dc96be69",
   "metadata": {},
   "outputs": [
    {
     "data": {
      "image/png": "[encoded data removed]",
      "text/plain": [
       "<Figure size 640x480 with 1 Axes>"
      ]
     },
     "metadata": {},
     "output_type": "display_data"
    }
   ],
   "source": [
    "#show value count\n",
    "swahili_data['tagi'].value_counts()\n",
    "\n",
    "#plot and visualize the counts\n",
    "plt.title('Amazon sentiment analysis')\n",
    "plt.xlabel('Sentiment')\n",
    "plt.ylabel('Counts')\n",
    "swahili_data['tagi'].value_counts().plot(kind= 'bar') #plots a bar graph\n",
    "plt.show()"
   ]
  },
  {
   "cell_type": "code",
   "execution_count": 26,
   "id": "35630878",
   "metadata": {},
   "outputs": [],
   "source": [
    "from sklearn.feature_extraction.text import TfidfVectorizer"
   ]
  },
  {
   "cell_type": "code",
   "execution_count": 27,
   "id": "974bbafd",
   "metadata": {},
   "outputs": [],
   "source": [
    "from sklearn.model_selection import train_test_split"
   ]
  },
  {
   "cell_type": "code",
   "execution_count": 28,
   "id": "39311859",
   "metadata": {},
   "outputs": [
    {
     "name": "stdout",
     "output_type": "stream",
     "text": [
      "(2355,)\n",
      "(2355,)\n",
      "(1570,)\n",
      "(1570,)\n"
     ]
    }
   ],
   "source": [
    "#create training and testing sets\n",
    "#test size rep % of data in test set.\n",
    "#random_state controls randomization during splitting\n",
    "X_train, X_test, y_train, y_test=train_test_split(swahili_data[\"text\"], swahili_data[\"tagi\"], test_size=0.4, random_state=42)\n",
    "print(X_train.shape)\n",
    "print(y_train.shape)\n",
    "print(X_test.shape)\n",
    "print(y_test.shape)"
   ]
  },
  {
   "cell_type": "code",
   "execution_count": 29,
   "id": "c361bfe5",
   "metadata": {},
   "outputs": [
    {
     "name": "stdout",
     "output_type": "stream",
     "text": [
      "(2355, 5215)\n",
      "(1570, 5215)\n"
     ]
    }
   ],
   "source": [
    "#Feature extraction using TfidfVectorizer \n",
    "#fit_transform: learns vocabulary and idf & returns document term matrix\n",
    "vectorizer = TfidfVectorizer()\n",
    "X_train_vect = vectorizer.fit_transform(X_train)\n",
    "X_test_vect = vectorizer.transform(X_test)\n",
    "print(X_train_vect.shape)\n",
    "print(X_test_vect.shape)"
   ]
  },
  {
   "cell_type": "code",
   "execution_count": 30,
   "id": "177b6824",
   "metadata": {},
   "outputs": [
    {
     "data": {
      "text/html": [
       "<style>#sk-container-id-1 {color: black;background-color: white;}#sk-container-id-1 pre{padding: 0;}#sk-container-id-1 div.sk-toggleable {background-color: white;}#sk-container-id-1 label.sk-toggleable__label {cursor: pointer;display: block;width: 100%;margin-bottom: 0;padding: 0.3em;box-sizing: border-box;text-align: center;}#sk-container-id-1 label.sk-toggleable__label-arrow:before {content: \"▸\";float: left;margin-right: 0.25em;color: #696969;}#sk-container-id-1 label.sk-toggleable__label-arrow:hover:before {color: black;}#sk-container-id-1 div.sk-estimator:hover label.sk-toggleable__label-arrow:before {color: black;}#sk-container-id-1 div.sk-toggleable__content {max-height: 0;max-width: 0;overflow: hidden;text-align: left;background-color: #f0f8ff;}#sk-container-id-1 div.sk-toggleable__content pre {margin: 0.2em;color: black;border-radius: 0.25em;background-color: #f0f8ff;}#sk-container-id-1 input.sk-toggleable__control:checked~div.sk-toggleable__content {max-height: 200px;max-width: 100%;overflow: auto;}#sk-container-id-1 input.sk-toggleable__control:checked~label.sk-toggleable__label-arrow:before {content: \"▾\";}#sk-container-id-1 div.sk-estimator input.sk-toggleable__control:checked~label.sk-toggleable__label {background-color: #d4ebff;}#sk-container-id-1 div.sk-label input.sk-toggleable__control:checked~label.sk-toggleable__label {background-color: #d4ebff;}#sk-container-id-1 input.sk-hidden--visually {border: 0;clip: rect(1px 1px 1px 1px);clip: rect(1px, 1px, 1px, 1px);height: 1px;margin: -1px;overflow: hidden;padding: 0;position: absolute;width: 1px;}#sk-container-id-1 div.sk-estimator {font-family: monospace;background-color: #f0f8ff;border: 1px dotted black;border-radius: 0.25em;box-sizing: border-box;margin-bottom: 0.5em;}#sk-container-id-1 div.sk-estimator:hover {background-color: #d4ebff;}#sk-container-id-1 div.sk-parallel-item::after {content: \"\";width: 100%;border-bottom: 1px solid gray;flex-grow: 1;}#sk-container-id-1 div.sk-label:hover label.sk-toggleable__label {background-color: #d4ebff;}#sk-container-id-1 div.sk-serial::before {content: \"\";position: absolute;border-left: 1px solid gray;box-sizing: border-box;top: 0;bottom: 0;left: 50%;z-index: 0;}#sk-container-id-1 div.sk-serial {display: flex;flex-direction: column;align-items: center;background-color: white;padding-right: 0.2em;padding-left: 0.2em;position: relative;}#sk-container-id-1 div.sk-item {position: relative;z-index: 1;}#sk-container-id-1 div.sk-parallel {display: flex;align-items: stretch;justify-content: center;background-color: white;position: relative;}#sk-container-id-1 div.sk-item::before, #sk-container-id-1 div.sk-parallel-item::before {content: \"\";position: absolute;border-left: 1px solid gray;box-sizing: border-box;top: 0;bottom: 0;left: 50%;z-index: -1;}#sk-container-id-1 div.sk-parallel-item {display: flex;flex-direction: column;z-index: 1;position: relative;background-color: white;}#sk-container-id-1 div.sk-parallel-item:first-child::after {align-self: flex-end;width: 50%;}#sk-container-id-1 div.sk-parallel-item:last-child::after {align-self: flex-start;width: 50%;}#sk-container-id-1 div.sk-parallel-item:only-child::after {width: 0;}#sk-container-id-1 div.sk-dashed-wrapped {border: 1px dashed gray;margin: 0 0.4em 0.5em 0.4em;box-sizing: border-box;padding-bottom: 0.4em;background-color: white;}#sk-container-id-1 div.sk-label label {font-family: monospace;font-weight: bold;display: inline-block;line-height: 1.2em;}#sk-container-id-1 div.sk-label-container {text-align: center;}#sk-container-id-1 div.sk-container {/* jupyter's `normalize.less` sets `[hidden] { display: none; }` but bootstrap.min.css set `[hidden] { display: none !important; }` so we also need the `!important` here to be able to override the default hidden behavior on the sphinx rendered scikit-learn.org. See: https://github.com/scikit-learn/scikit-learn/issues/21755 */display: inline-block !important;position: relative;}#sk-container-id-1 div.sk-text-repr-fallback {display: none;}</style><div id=\"sk-container-id-1\" class=\"sk-top-container\"><div class=\"sk-text-repr-fallback\"><pre>MultinomialNB()</pre><b>In a Jupyter environment, please rerun this cell to show the HTML representation or trust the notebook. <br />On GitHub, the HTML representation is unable to render, please try loading this page with nbviewer.org.</b></div><div class=\"sk-container\" hidden><div class=\"sk-item\"><div class=\"sk-estimator sk-toggleable\"><input class=\"sk-toggleable__control sk-hidden--visually\" id=\"sk-estimator-id-1\" type=\"checkbox\" checked><label for=\"sk-estimator-id-1\" class=\"sk-toggleable__label sk-toggleable__label-arrow\">MultinomialNB</label><div class=\"sk-toggleable__content\"><pre>MultinomialNB()</pre></div></div></div></div></div>"
      ],
      "text/plain": [
       "MultinomialNB()"
      ]
     },
     "execution_count": 30,
     "metadata": {},
     "output_type": "execute_result"
    }
   ],
   "source": [
    "#Uses Naives Bayes algorithm to train the model\n",
    "from sklearn.naive_bayes import MultinomialNB\n",
    "\n",
    "nb_model = MultinomialNB()\n",
    "nb_model.fit(X_train_vect, y_train)"
   ]
  },
  {
   "cell_type": "code",
   "execution_count": 31,
   "id": "f103545c",
   "metadata": {},
   "outputs": [],
   "source": [
    "from sklearn.metrics import accuracy_score, precision_score, recall_score, f1_score #classification_report"
   ]
  },
  {
   "cell_type": "code",
   "execution_count": 32,
   "id": "a52ef109",
   "metadata": {},
   "outputs": [
    {
     "name": "stdout",
     "output_type": "stream",
     "text": [
      "Accuracy: 74.71337579617834\n",
      "Precision: 74.94309451197802\n",
      "Recall Score: 74.71337579617834\n",
      "F1_score: 74.62741764951502\n"
     ]
    }
   ],
   "source": [
    "# Evaluate nb_model performance\n",
    "y_pred = nb_model.predict(X_test_vect)\n",
    "\n",
    "accuracy_level = accuracy_score(y_test, y_pred)*100\n",
    "precision_level = precision_score(y_test, y_pred, average='weighted')*100\n",
    "recall_score_level= recall_score(y_test, y_pred, average='weighted')*100\n",
    "f1_score_level = f1_score(y_test, y_pred, average='weighted')*100\n",
    "\n",
    "print('Accuracy:', accuracy_level)\n",
    "print('Precision:', precision_level)\n",
    "print('Recall Score:', recall_score_level)\n",
    "print('F1_score:', f1_score_level)"
   ]
  },
  {
   "cell_type": "code",
   "execution_count": 40,
   "id": "b543de03",
   "metadata": {},
   "outputs": [
    {
     "name": "stdout",
     "output_type": "stream",
     "text": [
      "The sentiment of the new text is : positive\n"
     ]
    }
   ],
   "source": [
    "# Use the nb_model to make predictions on new text data\n",
    "# Replace the new text in place of Mtoto huyo ana bidii\n",
    "analyze_text = ['Mtoto huyo ana bidii']\n",
    "clean_new_text = [clean_text(text) for text in analyze_text]\n",
    "new_X = vectorizer.transform(clean_new_text)\n",
    "new_y = nb_model.predict(new_X)\n",
    "print(\"The sentiment of the new text is : \" + new_y[0])"
   ]
  },
  {
   "cell_type": "code",
   "execution_count": 42,
   "id": "66bdc0de",
   "metadata": {},
   "outputs": [
    {
     "name": "stdout",
     "output_type": "stream",
     "text": [
      "Collecting gradio\n",
      "  Downloading gradio-3.27.0-py3-none-any.whl (17.3 MB)\n",
      "     ---------------------------------------- 17.3/17.3 MB 1.3 MB/s eta 0:00:00\n",
      "Requirement already satisfied: typing-extensions in c:\\users\\admin\\anaconda3\\lib\\site-packages (from gradio) (4.3.0)\n",
      "Requirement already satisfied: pillow in c:\\users\\admin\\anaconda3\\lib\\site-packages (from gradio) (9.2.0)\n",
      "Collecting aiofiles\n",
      "  Downloading aiofiles-23.1.0-py3-none-any.whl (14 kB)\n",
      "Collecting aiohttp\n",
      "  Downloading aiohttp-3.8.4-cp39-cp39-win_amd64.whl (323 kB)\n",
      "     -------------------------------------- 323.6/323.6 kB 1.8 MB/s eta 0:00:00\n",
      "Requirement already satisfied: matplotlib in c:\\users\\admin\\anaconda3\\lib\\site-packages (from gradio) (3.5.2)\n",
      "Collecting semantic-version\n",
      "  Downloading semantic_version-2.10.0-py2.py3-none-any.whl (15 kB)\n",
      "Collecting altair>=4.2.0\n",
      "  Downloading altair-4.2.2-py3-none-any.whl (813 kB)\n",
      "     -------------------------------------- 813.6/813.6 kB 1.6 MB/s eta 0:00:00\n",
      "Requirement already satisfied: pandas in c:\\users\\admin\\anaconda3\\lib\\site-packages (from gradio) (1.4.4)\n",
      "Collecting markdown-it-py[linkify]>=2.0.0\n",
      "  Downloading markdown_it_py-2.2.0-py3-none-any.whl (84 kB)\n",
      "     ---------------------------------------- 84.5/84.5 kB 1.6 MB/s eta 0:00:00\n",
      "Requirement already satisfied: markupsafe in c:\\users\\admin\\anaconda3\\lib\\site-packages (from gradio) (2.0.1)\n",
      "Requirement already satisfied: requests in c:\\users\\admin\\anaconda3\\lib\\site-packages (from gradio) (2.28.1)\n",
      "Collecting websockets>=10.0\n",
      "  Downloading websockets-11.0.2-cp39-cp39-win_amd64.whl (124 kB)\n",
      "     -------------------------------------- 124.6/124.6 kB 1.8 MB/s eta 0:00:00\n",
      "Collecting python-multipart\n",
      "  Downloading python_multipart-0.0.6-py3-none-any.whl (45 kB)\n",
      "     ---------------------------------------- 45.7/45.7 kB 1.1 MB/s eta 0:00:00\n",
      "Requirement already satisfied: numpy in c:\\users\\admin\\anaconda3\\lib\\site-packages (from gradio) (1.23.5)\n",
      "Collecting pydub\n",
      "  Downloading pydub-0.25.1-py2.py3-none-any.whl (32 kB)\n",
      "Collecting uvicorn\n",
      "  Downloading uvicorn-0.21.1-py3-none-any.whl (57 kB)\n",
      "     ---------------------------------------- 57.8/57.8 kB 1.5 MB/s eta 0:00:00\n",
      "Requirement already satisfied: pyyaml in c:\\users\\admin\\anaconda3\\lib\\site-packages (from gradio) (6.0)\n",
      "Collecting orjson\n",
      "  Downloading orjson-3.8.10-cp39-none-win_amd64.whl (197 kB)\n",
      "     -------------------------------------- 197.1/197.1 kB 2.0 MB/s eta 0:00:00\n",
      "Collecting gradio-client>=0.1.3\n",
      "  Downloading gradio_client-0.1.3-py3-none-any.whl (286 kB)\n",
      "     -------------------------------------- 286.2/286.2 kB 2.0 MB/s eta 0:00:00\n",
      "Collecting fastapi\n",
      "  Downloading fastapi-0.95.1-py3-none-any.whl (56 kB)\n",
      "     ---------------------------------------- 57.0/57.0 kB 1.5 MB/s eta 0:00:00\n",
      "Collecting ffmpy\n",
      "  Downloading ffmpy-0.3.0.tar.gz (4.8 kB)\n",
      "  Preparing metadata (setup.py): started\n",
      "  Preparing metadata (setup.py): finished with status 'done'\n",
      "Collecting pydantic\n",
      "  Downloading pydantic-1.10.7-cp39-cp39-win_amd64.whl (2.2 MB)\n",
      "     ---------------------------------------- 2.2/2.2 MB 1.4 MB/s eta 0:00:00\n",
      "Requirement already satisfied: jinja2 in c:\\users\\admin\\anaconda3\\lib\\site-packages (from gradio) (2.11.3)\n",
      "Collecting mdit-py-plugins<=0.3.3\n",
      "  Downloading mdit_py_plugins-0.3.3-py3-none-any.whl (50 kB)\n",
      "     ---------------------------------------- 50.5/50.5 kB 1.3 MB/s eta 0:00:00\n",
      "Requirement already satisfied: huggingface-hub>=0.13.0 in c:\\users\\admin\\anaconda3\\lib\\site-packages (from gradio) (0.13.3)\n",
      "Collecting httpx\n",
      "  Downloading httpx-0.24.0-py3-none-any.whl (75 kB)\n",
      "     ---------------------------------------- 75.3/75.3 kB 1.4 MB/s eta 0:00:00\n",
      "Requirement already satisfied: entrypoints in c:\\users\\admin\\anaconda3\\lib\\site-packages (from altair>=4.2.0->gradio) (0.4)\n",
      "Requirement already satisfied: jsonschema>=3.0 in c:\\users\\admin\\anaconda3\\lib\\site-packages (from altair>=4.2.0->gradio) (4.16.0)\n",
      "Requirement already satisfied: toolz in c:\\users\\admin\\anaconda3\\lib\\site-packages (from altair>=4.2.0->gradio) (0.11.2)\n",
      "Requirement already satisfied: fsspec in c:\\users\\admin\\anaconda3\\lib\\site-packages (from gradio-client>=0.1.3->gradio) (2022.7.1)\n",
      "Requirement already satisfied: packaging in c:\\users\\admin\\anaconda3\\lib\\site-packages (from gradio-client>=0.1.3->gradio) (21.3)\n",
      "Requirement already satisfied: tqdm>=4.42.1 in c:\\users\\admin\\anaconda3\\lib\\site-packages (from huggingface-hub>=0.13.0->gradio) (4.64.1)\n",
      "Requirement already satisfied: filelock in c:\\users\\admin\\anaconda3\\lib\\site-packages (from huggingface-hub>=0.13.0->gradio) (3.6.0)\n",
      "Collecting mdurl~=0.1\n",
      "  Downloading mdurl-0.1.2-py3-none-any.whl (10.0 kB)\n",
      "Collecting linkify-it-py<3,>=1\n",
      "  Downloading linkify_it_py-2.0.0-py3-none-any.whl (19 kB)\n",
      "Requirement already satisfied: python-dateutil>=2.8.1 in c:\\users\\admin\\anaconda3\\lib\\site-packages (from pandas->gradio) (2.8.2)\n",
      "Requirement already satisfied: pytz>=2020.1 in c:\\users\\admin\\anaconda3\\lib\\site-packages (from pandas->gradio) (2022.1)\n",
      "Collecting yarl<2.0,>=1.0\n",
      "  Downloading yarl-1.8.2-cp39-cp39-win_amd64.whl (56 kB)\n",
      "     ---------------------------------------- 56.8/56.8 kB 1.5 MB/s eta 0:00:00\n",
      "Requirement already satisfied: charset-normalizer<4.0,>=2.0 in c:\\users\\admin\\anaconda3\\lib\\site-packages (from aiohttp->gradio) (2.0.4)\n",
      "Collecting multidict<7.0,>=4.5\n",
      "  Downloading multidict-6.0.4-cp39-cp39-win_amd64.whl (28 kB)\n",
      "Collecting aiosignal>=1.1.2\n",
      "  Downloading aiosignal-1.3.1-py3-none-any.whl (7.6 kB)\n",
      "Requirement already satisfied: attrs>=17.3.0 in c:\\users\\admin\\anaconda3\\lib\\site-packages (from aiohttp->gradio) (21.4.0)\n",
      "Collecting async-timeout<5.0,>=4.0.0a3\n",
      "  Downloading async_timeout-4.0.2-py3-none-any.whl (5.8 kB)\n",
      "Collecting frozenlist>=1.1.1\n",
      "  Downloading frozenlist-1.3.3-cp39-cp39-win_amd64.whl (34 kB)\n",
      "Collecting starlette<0.27.0,>=0.26.1\n",
      "  Downloading starlette-0.26.1-py3-none-any.whl (66 kB)\n",
      "     ---------------------------------------- 66.9/66.9 kB 1.8 MB/s eta 0:00:00\n",
      "Requirement already satisfied: idna in c:\\users\\admin\\anaconda3\\lib\\site-packages (from httpx->gradio) (3.3)\n",
      "Requirement already satisfied: sniffio in c:\\users\\admin\\anaconda3\\lib\\site-packages (from httpx->gradio) (1.2.0)\n",
      "Collecting httpcore<0.18.0,>=0.15.0\n",
      "  Downloading httpcore-0.17.0-py3-none-any.whl (70 kB)\n",
      "     ---------------------------------------- 70.6/70.6 kB 1.9 MB/s eta 0:00:00\n",
      "Requirement already satisfied: certifi in c:\\users\\admin\\anaconda3\\lib\\site-packages (from httpx->gradio) (2022.9.14)\n",
      "Requirement already satisfied: kiwisolver>=1.0.1 in c:\\users\\admin\\anaconda3\\lib\\site-packages (from matplotlib->gradio) (1.4.2)\n",
      "Requirement already satisfied: fonttools>=4.22.0 in c:\\users\\admin\\anaconda3\\lib\\site-packages (from matplotlib->gradio) (4.25.0)\n",
      "Requirement already satisfied: pyparsing>=2.2.1 in c:\\users\\admin\\anaconda3\\lib\\site-packages (from matplotlib->gradio) (3.0.9)\n",
      "Requirement already satisfied: cycler>=0.10 in c:\\users\\admin\\anaconda3\\lib\\site-packages (from matplotlib->gradio) (0.11.0)\n",
      "Requirement already satisfied: urllib3<1.27,>=1.21.1 in c:\\users\\admin\\anaconda3\\lib\\site-packages (from requests->gradio) (1.26.11)\n",
      "Requirement already satisfied: click>=7.0 in c:\\users\\admin\\anaconda3\\lib\\site-packages (from uvicorn->gradio) (8.0.4)\n",
      "Collecting h11>=0.8\n",
      "  Downloading h11-0.14.0-py3-none-any.whl (58 kB)\n",
      "     ---------------------------------------- 58.3/58.3 kB 1.5 MB/s eta 0:00:00\n",
      "Requirement already satisfied: colorama in c:\\users\\admin\\anaconda3\\lib\\site-packages (from click>=7.0->uvicorn->gradio) (0.4.5)\n",
      "Requirement already satisfied: anyio<5.0,>=3.0 in c:\\users\\admin\\anaconda3\\lib\\site-packages (from httpcore<0.18.0,>=0.15.0->httpx->gradio) (3.5.0)\n",
      "Requirement already satisfied: pyrsistent!=0.17.0,!=0.17.1,!=0.17.2,>=0.14.0 in c:\\users\\admin\\anaconda3\\lib\\site-packages (from jsonschema>=3.0->altair>=4.2.0->gradio) (0.18.0)\n",
      "Collecting uc-micro-py\n",
      "  Downloading uc_micro_py-1.0.1-py3-none-any.whl (6.2 kB)\n",
      "Requirement already satisfied: six>=1.5 in c:\\users\\admin\\anaconda3\\lib\\site-packages (from python-dateutil>=2.8.1->pandas->gradio) (1.16.0)\n",
      "Building wheels for collected packages: ffmpy\n",
      "  Building wheel for ffmpy (setup.py): started\n",
      "  Building wheel for ffmpy (setup.py): finished with status 'done'\n",
      "  Created wheel for ffmpy: filename=ffmpy-0.3.0-py3-none-any.whl size=4693 sha256=1b7e315ea2076f601499f42229ede91799c5b00b3cd4ff2a642e035ed7b80514\n",
      "  Stored in directory: c:\\users\\admin\\appdata\\local\\pip\\cache\\wheels\\91\\e2\\96\\f676aa08bfd789328c6576cd0f1fde4a3d686703bb0c247697\n",
      "Successfully built ffmpy\n",
      "Installing collected packages: pydub, ffmpy, websockets, uc-micro-py, semantic-version, python-multipart, pydantic, orjson, multidict, mdurl, h11, frozenlist, async-timeout, aiofiles, yarl, uvicorn, starlette, markdown-it-py, linkify-it-py, httpcore, aiosignal, mdit-py-plugins, httpx, fastapi, altair, aiohttp, gradio-client, gradio\n",
      "Successfully installed aiofiles-23.1.0 aiohttp-3.8.4 aiosignal-1.3.1 altair-4.2.2 async-timeout-4.0.2 fastapi-0.95.1 ffmpy-0.3.0 frozenlist-1.3.3 gradio-3.27.0 gradio-client-0.1.3 h11-0.14.0 httpcore-0.17.0 httpx-0.24.0 linkify-it-py-2.0.0 markdown-it-py-2.2.0 mdit-py-plugins-0.3.3 mdurl-0.1.2 multidict-6.0.4 orjson-3.8.10 pydantic-1.10.7 pydub-0.25.1 python-multipart-0.0.6 semantic-version-2.10.0 starlette-0.26.1 uc-micro-py-1.0.1 uvicorn-0.21.1 websockets-11.0.2 yarl-1.8.2\n",
      "Note: you may need to restart the kernel to use updated packages.\n"
     ]
    }
   ],
   "source": [
    "pip install gradio"
   ]
  },
  {
   "cell_type": "code",
   "execution_count": 43,
   "id": "cc7d4d80",
   "metadata": {
    "scrolled": true
   },
   "outputs": [],
   "source": [
    "import gradio as gr\n",
    "from gradio.components import Textbox"
   ]
  },
  {
   "cell_type": "code",
   "execution_count": 44,
   "id": "4187a21f",
   "metadata": {},
   "outputs": [
    {
     "name": "stderr",
     "output_type": "stream",
     "text": [
      "C:\\Users\\admin\\anaconda3\\lib\\site-packages\\gradio\\inputs.py:27: UserWarning: Usage of gradio.inputs is deprecated, and will not be supported in the future, please import your component from gradio.components\n",
      "  warnings.warn(\n",
      "C:\\Users\\admin\\anaconda3\\lib\\site-packages\\gradio\\deprecation.py:40: UserWarning: `optional` parameter is deprecated, and it has no effect\n",
      "  warnings.warn(value)\n",
      "C:\\Users\\admin\\anaconda3\\lib\\site-packages\\gradio\\deprecation.py:40: UserWarning: `numeric` parameter is deprecated, and it has no effect\n",
      "  warnings.warn(value)\n",
      "C:\\Users\\admin\\anaconda3\\lib\\site-packages\\gradio\\outputs.py:197: UserWarning: Usage of gradio.outputs is deprecated, and will not be supported in the future, please import your components from gradio.components\n",
      "  warnings.warn(\n",
      "C:\\Users\\admin\\anaconda3\\lib\\site-packages\\gradio\\deprecation.py:40: UserWarning: The 'type' parameter has been deprecated. Use the Number component instead.\n",
      "  warnings.warn(value)\n"
     ]
    },
    {
     "name": "stdout",
     "output_type": "stream",
     "text": [
      "Running on local URL:  http://127.0.0.1:7860\n",
      "Running on public URL: https://b82f8168a24dc4e02c.gradio.live\n",
      "\n",
      "This share link expires in 72 hours. For free permanent hosting and GPU upgrades (NEW!), check out Spaces: https://huggingface.co/spaces\n"
     ]
    },
    {
     "data": {
      "text/html": [
       "<div><iframe src=\"https://b82f8168a24dc4e02c.gradio.live\" width=\"100%\" height=\"500\" allow=\"autoplay; camera; microphone; clipboard-read; clipboard-write;\" frameborder=\"0\" allowfullscreen></iframe></div>"
      ],
      "text/plain": [
       "<IPython.core.display.HTML object>"
      ]
     },
     "metadata": {},
     "output_type": "display_data"
    },
    {
     "data": {
      "text/plain": []
     },
     "execution_count": 44,
     "metadata": {},
     "output_type": "execute_result"
    }
   ],
   "source": [
    "def predict_sentiment(analyze_text):\n",
    "    # Process the new tweet\n",
    "    new_text_vector = vectorizer.transform([analyze_text])\n",
    "\n",
    "    # Predict the sentiment of the new tweet\n",
    "    new_text_sentiment = nb_model.predict(new_text_vector)\n",
    "\n",
    "    return new_text_sentiment[0]\n",
    "\n",
    "tweet_input = gr.inputs.Textbox(lines=3, label=\"Enter your swahili text\")\n",
    "prediction = gr.outputs.Label(label=\"The sentiment of this swahili text is : \")\n",
    "\n",
    "gr.Interface(fn=predict_sentiment, inputs=tweet_input, outputs=prediction, title=\"Swahili Sentiment Analyzer by Sandra Mwihaki 19S01ACS002\", \n",
    "             description=\"Enter a swahili text and get its sentiment prediction.\").launch(share=True)"
   ]
  }
 ],
 "metadata": {
  "kernelspec": {
   "display_name": "Python 3 (ipykernel)",
   "language": "python",
   "name": "python3"
  },
  "language_info": {
   "codemirror_mode": {
    "name": "ipython",
    "version": 3
   },
   "file_extension": ".py",
   "mimetype": "text/x-python",
   "name": "python",
   "nbconvert_exporter": "python",
   "pygments_lexer": "ipython3",
   "version": "3.9.13"
  }
 },
 "nbformat": 4,
 "nbformat_minor": 5
}
